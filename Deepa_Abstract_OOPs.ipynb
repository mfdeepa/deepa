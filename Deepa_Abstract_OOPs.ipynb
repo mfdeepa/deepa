{
  "nbformat": 4,
  "nbformat_minor": 0,
  "metadata": {
    "colab": {
      "provenance": [],
      "include_colab_link": true
    },
    "kernelspec": {
      "name": "python3",
      "display_name": "Python 3"
    },
    "language_info": {
      "name": "python"
    }
  },
  "cells": [
    {
      "cell_type": "markdown",
      "metadata": {
        "id": "view-in-github",
        "colab_type": "text"
      },
      "source": [
        "<a href=\"https://colab.research.google.com/github/mfdeepa/deepa/blob/main/Deepa_Abstract_OOPs.ipynb\" target=\"_parent\"><img src=\"https://colab.research.google.com/assets/colab-badge.svg\" alt=\"Open In Colab\"/></a>"
      ]
    },
    {
      "cell_type": "code",
      "execution_count": null,
      "metadata": {
        "id": "xMpzW5MMQtTR"
      },
      "outputs": [],
      "source": [
        "class Car:\n",
        "    __engineStroke = 4\n",
        "    __engineType = \"V\"\n",
        "    __engineCapacity = 2000\n",
        "\n",
        "    def _init_ (self, name, model, color):\n",
        "        self.__name = name\n",
        "        self.__model = model\n",
        "        self.__color = color\n",
        "\n",
        "    def start(self):\n",
        "        print(\"Starting the car\")\n",
        "\n",
        "    def stop(self):\n",
        "        print(\"Stoping the car\")\n",
        "\n",
        "    def accelerate(self):\n",
        "        print(\"Accelerate the car\")\n",
        "\n",
        "    def change_gear(self, gear):\n",
        "        print(\"changing gear to \", gear)\n",
        "    def get__engine_type(self):\n",
        "        return self.__engineType\n",
        "\n",
        "    def get__engine_capacity(self):\n",
        "        return self.__engineCapacity\n",
        "\n",
        "    def get__engine_stroke(self):\n",
        "        return self.__engineStroke\n",
        "\n",
        "    def __set_engine_stroke(self, engineStroke):\n",
        "        self.__enginestroke = engineStroke\n",
        "\n",
        "if _name_ == \"_main_\":\n",
        "    car1 = Car(\"Maruti\", \"800\", \"White\")\n",
        "    car1.start()\n",
        "    car1.accelerate()\n",
        "    car1.change_gear(3)\n",
        "    print(car1.get__engine_stroke) #while printing this, we are getting error. here o/p should be 4.\n",
        "    car1.stop()"
      ]
    }
  ]
}