{
  "nbformat": 4,
  "nbformat_minor": 0,
  "metadata": {
    "colab": {
      "provenance": [],
      "authorship_tag": "ABX9TyNlXLolHqWCHkPPKiVziuFR",
      "include_colab_link": true
    },
    "kernelspec": {
      "name": "python3",
      "display_name": "Python 3"
    },
    "language_info": {
      "name": "python"
    }
  },
  "cells": [
    {
      "cell_type": "markdown",
      "metadata": {
        "id": "view-in-github",
        "colab_type": "text"
      },
      "source": [
        "<a href=\"https://colab.research.google.com/github/mfdeepa/deepa/blob/main/Intro_of_oops.ipynb\" target=\"_parent\"><img src=\"https://colab.research.google.com/assets/colab-badge.svg\" alt=\"Open In Colab\"/></a>"
      ]
    },
    {
      "cell_type": "markdown",
      "source": [
        "create a class of bankaccount."
      ],
      "metadata": {
        "id": "wTrGYW_LIVXL"
      }
    },
    {
      "cell_type": "code",
      "execution_count": 7,
      "metadata": {
        "colab": {
          "base_uri": "https://localhost:8080/"
        },
        "id": "4xZj70WKuCsn",
        "outputId": "5b1ce597-2a50-4236-d89d-4378b251c9db"
      },
      "outputs": [
        {
          "output_type": "stream",
          "name": "stdout",
          "text": [
            "<__main__.BankAccount object at 0x7a55c3a617b0>\n",
            "<bound method BankAccount.deposit of <__main__.BankAccount object at 0x7a55c3a617b0>>\n"
          ]
        }
      ],
      "source": [
        "class BankAccount:\n",
        "  def __init__(self,number,balance):\n",
        "    self.number = number\n",
        "    self.balance = balance\n",
        "\n",
        "  def deposit(self, amonut):\n",
        "    self.balance += amount\n",
        "\n",
        "  def withdraw(self,amount):\n",
        "    self.balance -= amount\n",
        "\n",
        "  def transfer(self,destination,amount):\n",
        "    self.withdraw(amount)\n",
        "    destination.deposit(amount)\n",
        "\n",
        "if __name__ == \"__main__\":\n",
        "  Ba = BankAccount(2345,10000)\n",
        "  print(Ba)\n",
        "  print(Ba.deposit)"
      ]
    },
    {
      "cell_type": "markdown",
      "source": [
        "Procedural programming: this is based on the calling functions,procedure, basically here something is define someone. means action perform entity. As python does not have any structure so we have to import decorator from the data classes.\n",
        "Structure is used in procedural progamming only"
      ],
      "metadata": {
        "id": "shNHq9wWwKS1"
      }
    },
    {
      "cell_type": "code",
      "source": [
        "from dataclasses import dataclass\n",
        "@dataclass\n",
        "class Student:\n",
        "  name: str\n",
        "  age: int\n",
        "  gender: str\n",
        "\n",
        "#here function is calling the class(entity) so the function will be create outside the class\n",
        "def print_student(st : Student):\n",
        "  print(st.name)\n",
        "  print(st.age)\n",
        "  print(st.gender)\n",
        "\n",
        "if __name__ == \"__main__\":\n",
        "  st1 = Student(name = \"Deepa\", age = 34, gender = \"F\")\n",
        "  print_student(st1)"
      ],
      "metadata": {
        "colab": {
          "base_uri": "https://localhost:8080/"
        },
        "id": "4sIHbJxvyETg",
        "outputId": "c4cc254e-0d08-474e-bc79-a431a9a02f22"
      },
      "execution_count": 3,
      "outputs": [
        {
          "output_type": "stream",
          "name": "stdout",
          "text": [
            "Deepa\n",
            "34\n",
            "F\n"
          ]
        }
      ]
    },
    {
      "cell_type": "markdown",
      "source": [
        "OOPS class: Here object is calling function."
      ],
      "metadata": {
        "id": "YEUAWEbV4MmW"
      }
    },
    {
      "cell_type": "code",
      "source": [
        "class Student:\n",
        "  name: str\n",
        "  age:int\n",
        "  gender:str\n",
        "\n",
        "  def __init__(self,name:str,age:int,gender:str):\n",
        "    self.name = name\n",
        "    self.age = age\n",
        "    self.gender = gender\n",
        "\n",
        "  def print_student(self):\n",
        "    print(self.name)\n",
        "    print(self.age)\n",
        "    print(self.gender)\n",
        "if __name__ == \"__main__\":\n",
        "  st = Student(\"deepa\", 34,\"F\")\n",
        "  st.print_student()"
      ],
      "metadata": {
        "colab": {
          "base_uri": "https://localhost:8080/"
        },
        "id": "V8fiTkA_4Pfk",
        "outputId": "4d66c8e9-ced7-4ec9-ad46-44665c62b261"
      },
      "execution_count": 7,
      "outputs": [
        {
          "output_type": "stream",
          "name": "stdout",
          "text": [
            "deepa\n",
            "34\n",
            "F\n"
          ]
        }
      ]
    },
    {
      "cell_type": "markdown",
      "source": [
        "class method: class method is bound to class rather than object.It use, when the method needs to access or modify class level attributes or method to create a new instance.\n",
        "they define  @classmethod decorator\n",
        "and the first argument of this is 'cls'."
      ],
      "metadata": {
        "id": "WRhnZZ23D7Do"
      }
    },
    {
      "cell_type": "code",
      "source": [
        "class Myclass:\n",
        "  class_variable = 0\n",
        "\n",
        "  def __init__(self,instance_variable):\n",
        "    self.instance_variable = instance_variable\n",
        "\n",
        "  @classmethod\n",
        "  def class_method(cls,x):\n",
        "    cls.class_variable += x\n",
        "\n",
        "obj = Myclass(5)\n",
        "Myclass.class_method(1)\n",
        "obj.class_method(2)\n",
        "print(Myclass.class_variable)"
      ],
      "metadata": {
        "colab": {
          "base_uri": "https://localhost:8080/"
        },
        "id": "wEnve0abEvyK",
        "outputId": "d252b3e6-8f33-4043-dc1c-4e4caada92de"
      },
      "execution_count": 8,
      "outputs": [
        {
          "output_type": "stream",
          "name": "stdout",
          "text": [
            "3\n"
          ]
        }
      ]
    },
    {
      "cell_type": "markdown",
      "source": [
        "Static method: it's used wenever we have a utility function that does not depend on any state/ attributes from the class or the instance."
      ],
      "metadata": {
        "id": "rOtWTyeEHV_H"
      }
    },
    {
      "cell_type": "code",
      "source": [
        "class Myclass:\n",
        "  class_variable = 0\n",
        "\n",
        "  def __init__(self,instance_variable):\n",
        "    self.instance_variable = instance_variable\n",
        "\n",
        "  @staticmethod\n",
        "  def static_method(x):\n",
        "    return x\n",
        "\n",
        "obj = Myclass(5)\n",
        "Myclass.static_method(4)\n",
        "obj.static_method(3)\n",
        "print(Myclass.static_method(4))"
      ],
      "metadata": {
        "colab": {
          "base_uri": "https://localhost:8080/"
        },
        "id": "Co7UB8MbHkaD",
        "outputId": "f1ec5b86-bd94-4d6d-fdd9-9fd991381f5a"
      },
      "execution_count": 9,
      "outputs": [
        {
          "output_type": "stream",
          "name": "stdout",
          "text": [
            "4\n"
          ]
        }
      ]
    },
    {
      "cell_type": "markdown",
      "source": [
        "Access modifier: public access modier, which is acessable by everyone.\n"
      ],
      "metadata": {
        "id": "eO8Rac_GISir"
      }
    },
    {
      "cell_type": "code",
      "source": [
        "class Student:\n",
        "    def __init__ (self, name:str, batchId: int, universityName: str):\n",
        "        self.name = name\n",
        "        self.batchId = batchId\n",
        "        self.universityName = universityName\n",
        "\n",
        "    def changeBatch(self, newBatchId: int):\n",
        "        self.batchId = newBatchId\n",
        "\n",
        "class StudendChild(Student):  #while creating the child class of the anyclass, we shouold write the parent class in the parenthesis.\n",
        "\n",
        "    def __init__ (self):\n",
        "        super().__init__(\"deepa\", 1, \"MIT\")\n",
        "        print(\"we are inside child class constructor\")\n",
        "        print(self.name)  #if name is johu or not\n",
        "\n",
        "def main():\n",
        "    st = Student(\"James\", 3,\" MIT\" )\n",
        "    print(st.name)\n",
        "    print(\"Before changing the batchid\")\n",
        "    print(st.batchId)\n",
        "    st.changeBatch(4)\n",
        "    print(\"After changing the BatchID\")\n",
        "    print(st.batchId)\n",
        "    stChild = StudendChild()\n",
        "    print(stChild.name)\n",
        "    print(stChild.batchId)\n",
        "\n",
        "if __name__ == \"__main__\":\n",
        "    main()"
      ],
      "metadata": {
        "colab": {
          "base_uri": "https://localhost:8080/"
        },
        "id": "E0z2FU3iM25P",
        "outputId": "03b2d328-0d57-4615-aa45-412619087fd1"
      },
      "execution_count": 11,
      "outputs": [
        {
          "output_type": "stream",
          "name": "stdout",
          "text": [
            "James\n",
            "Before changing the batchid\n",
            "3\n",
            "After changing the BatchID\n",
            "4\n",
            "we are inside child class constructor\n",
            "deepa\n",
            "deepa\n",
            "1\n"
          ]
        }
      ]
    }
  ]
}